{
  "nbformat": 4,
  "nbformat_minor": 0,
  "metadata": {
    "colab": {
      "name": "Train TestNN.ipynb",
      "provenance": [],
      "collapsed_sections": [],
      "authorship_tag": "ABX9TyNMpgK80U13onksbESDtkJt",
      "include_colab_link": true
    },
    "kernelspec": {
      "name": "python3",
      "display_name": "Python 3"
    },
    "language_info": {
      "name": "python"
    },
    "accelerator": "GPU"
  },
  "cells": [
    {
      "cell_type": "markdown",
      "metadata": {
        "id": "view-in-github",
        "colab_type": "text"
      },
      "source": [
        "<a href=\"https://colab.research.google.com/github/aman-p7952/Neural-Network/blob/main/Train_TestNN.ipynb\" target=\"_parent\"><img src=\"https://colab.research.google.com/assets/colab-badge.svg\" alt=\"Open In Colab\"/></a>"
      ]
    },
    {
      "cell_type": "markdown",
      "metadata": {
        "id": "2sRutpARKc2T"
      },
      "source": [
        "Imports"
      ]
    },
    {
      "cell_type": "code",
      "metadata": {
        "id": "XU4K2FxIQjeF"
      },
      "source": [
        "import torch\n",
        "import torch.nn as nn\n",
        "import torchvision\n",
        "import torch.nn.functional as F\n",
        "import torch.optim as optim\n",
        "import matplotlib.pyplot as plt\n",
        "import numpy as np\n",
        "\n"
      ],
      "execution_count": 47,
      "outputs": []
    },
    {
      "cell_type": "markdown",
      "metadata": {
        "id": "2kptdC58MGMp"
      },
      "source": [
        "DataLoader"
      ]
    },
    {
      "cell_type": "code",
      "metadata": {
        "colab": {
          "base_uri": "https://localhost:8080/"
        },
        "id": "a40zVpb_MBbQ",
        "outputId": "b40af5f4-1c61-4e49-ef4a-358d6b42dc71"
      },
      "source": [
        "trainingdata=torchvision.datasets.CIFAR10(root= \"/content/data/\", download=True,\n",
        "                                          transform=torchvision.transforms.Compose([\n",
        "                                           torchvision.transforms.ToTensor(),\n",
        "                                           torchvision.transforms.Normalize(\n",
        "                                            (0.,), (0.5,))]))\n",
        "testdata=torchvision.datasets.CIFAR10(root= \"/content/data/\", download=True,train=False,\n",
        "                                          transform=torchvision.transforms.Compose([\n",
        "                                           torchvision.transforms.ToTensor(),\n",
        "                                           torchvision.transforms.Normalize(\n",
        "                                            (0.,), (0.5,))]))\n",
        "train_loader=torch.utils.data.DataLoader(trainingdata,batch_size=32,shuffle=True)\n",
        "test_loader=torch.utils.data.DataLoader(testdata,batch_size=32,shuffle=False)"
      ],
      "execution_count": 48,
      "outputs": [
        {
          "output_type": "stream",
          "name": "stdout",
          "text": [
            "Files already downloaded and verified\n",
            "Files already downloaded and verified\n"
          ]
        }
      ]
    },
    {
      "cell_type": "markdown",
      "metadata": {
        "id": "LL8EcbveNMjs"
      },
      "source": [
        "Parameters"
      ]
    },
    {
      "cell_type": "code",
      "metadata": {
        "id": "9YqBLhTWNRGm"
      },
      "source": [
        "device = torch.device(\"cuda:0\" if torch.cuda.is_available() else \"cpu\")\n",
        "num_epochs=50\n",
        "lr = 0.0001"
      ],
      "execution_count": 49,
      "outputs": []
    },
    {
      "cell_type": "markdown",
      "metadata": {
        "id": "z1eSlheTKp0j"
      },
      "source": [
        "NetA()"
      ]
    },
    {
      "cell_type": "code",
      "metadata": {
        "id": "1xcSJFjLSzXk"
      },
      "source": [
        "class NetA(nn.Module):\n",
        "  def __init__(self):\n",
        "    super(NetA,self).__init__()\n",
        "    self.main=nn.Sequential(\n",
        "        nn.Flatten(),\n",
        "        nn.Linear(32*32*3,10)\n",
        "    )\n",
        "  def forward(self,x):\n",
        "    return self.main(x)\n",
        "#netA=NetA().to(device)"
      ],
      "execution_count": 50,
      "outputs": []
    },
    {
      "cell_type": "markdown",
      "metadata": {
        "id": "gaIw96BhKuf8"
      },
      "source": [
        "NetB()"
      ]
    },
    {
      "cell_type": "code",
      "metadata": {
        "id": "8DOEKn0OSzoy"
      },
      "source": [
        "class NetB(nn.Module):\n",
        "  def __init__(self):\n",
        "    super(NetB,self).__init__()\n",
        "    self.main=nn.Sequential(\n",
        "        nn.Flatten(),\n",
        "        nn.Linear(32*32*3,300),\n",
        "        nn.ReLU(),\n",
        "        nn.Linear(300,10)\n",
        "\n",
        "    )\n",
        "  def forward(self,x):\n",
        "    return self.main(x)\n",
        "#netB=NetB().to(device)"
      ],
      "execution_count": 51,
      "outputs": []
    },
    {
      "cell_type": "markdown",
      "metadata": {
        "id": "WGM9bkFtKypU"
      },
      "source": [
        "NetC()"
      ]
    },
    {
      "cell_type": "code",
      "metadata": {
        "id": "vqsuw0MNSzxE"
      },
      "source": [
        "class NetC(nn.Module):\n",
        "  def __init__(self):\n",
        "    super(NetC,self).__init__()\n",
        "    self.main=nn.Sequential(\n",
        "        nn.Conv2d(3,25,5),\n",
        "        nn.ReLU(),\n",
        "        nn.MaxPool2d(2,2),\n",
        "        nn.Flatten(),\n",
        "        nn.Linear(14*14*25,10),\n",
        "    )\n",
        "  def forward(self,x):\n",
        "    return self.main(x)\n",
        "#netC=NetC().to(device)"
      ],
      "execution_count": 52,
      "outputs": []
    },
    {
      "cell_type": "markdown",
      "metadata": {
        "id": "LNsKe_YAK5Dk"
      },
      "source": [
        "Train Function\n",
        "\n"
      ]
    },
    {
      "cell_type": "code",
      "metadata": {
        "id": "lNhPGyQvSz0E"
      },
      "source": [
        "\n",
        "criterion=nn.CrossEntropyLoss()\n",
        "\n",
        "def train(net, traindataloader, testdataloader,\n",
        "                                      num_epochs,\n",
        "                                      learning_rate,\n",
        "                                      compute_accs):\n",
        "  train_history=[]\n",
        "  test_history=[]\n",
        "  optimizer = optim.Adam(net.parameters(), lr=learning_rate)\n",
        "  for epoch in range(num_epochs):\n",
        "      net=net.to(device)\n",
        "      # For each batch in the dataloader\n",
        "      for i, data in enumerate(traindataloader, 0):\n",
        "        optimizer.zero_grad()\n",
        "        data[0]=data[0].to(device)\n",
        "        label=F.one_hot(data[1],10).type(torch.FloatTensor).to(device)\n",
        "        output=net(data[0])\n",
        "        loss=criterion(output,label)\n",
        "        loss.backward()\n",
        "        optimizer.step()\n",
        "      \n",
        "      correct_train = 0\n",
        "      total_train = 0\n",
        "      correct_test = 0\n",
        "      total_test = 0\n",
        "     \n",
        "      if(compute_accs):\n",
        "        with torch.no_grad():\n",
        "            for data in traindataloader:\n",
        "                images, labels = data\n",
        "                labels=labels.to(device)\n",
        "                # calculate outputs by running images through the network\n",
        "                outputs = net(images.to(device))\n",
        "                # the class with the highest energy is what we choose as prediction\n",
        "                _ ,predicted = torch.max(outputs.data, 1)\n",
        "                total_train += labels.size(0)\n",
        "                correct_train += (predicted == labels).sum().item()\n",
        "            train_acc=correct_train/total_train\n",
        "            train_history.append(train_acc)\n",
        "\n",
        "            for data in testdataloader:\n",
        "                images, labels = data\n",
        "                labels=labels.to(device)\n",
        "                # calculate outputs by running images through the network\n",
        "                outputs = net(images.to(device))\n",
        "                # the class with the highest energy is what we choose as prediction\n",
        "                _ ,predicted = torch.max(outputs.data, 1)\n",
        "                total_test += labels.size(0)\n",
        "                correct_test += (predicted == labels).sum().item()\n",
        "            test_acc=correct_test/total_test\n",
        "            test_history.append(test_acc)\n",
        "        #print('Accuracy of the network on the test images: %f ' % (\n",
        "        #    correct_test / total_test))\n",
        "        #print('Accuracy of the network on the train images: %f ' % (\n",
        "        #   correct_train / total_train))\n",
        "        print(\"epoch: %d  train_accracy %f test_accuracy %f\" %(epoch,train_acc,test_acc))\n",
        "  return train_history, test_history"
      ],
      "execution_count": 53,
      "outputs": []
    },
    {
      "cell_type": "markdown",
      "metadata": {
        "id": "FQGxL95jLNXu"
      },
      "source": [
        "plot_history function"
      ]
    },
    {
      "cell_type": "code",
      "metadata": {
        "id": "h38NyEm0cjx-"
      },
      "source": [
        "\n",
        "def plot_history(histories):\n",
        "  for i in range(len(histories)):\n",
        "    plt.plot(np.arange(num_epochs),histories[i][\"train_accs\"],label='train_accs')\n",
        "    plt.plot(np.arange(num_epochs),histories[i][\"test_accs\"],label='test_accs')\n",
        "    plt.title(histories[i]['name'])\n",
        "    plt.legend()\n",
        "    plt.show()"
      ],
      "execution_count": 54,
      "outputs": []
    },
    {
      "cell_type": "markdown",
      "metadata": {
        "id": "YPFFycmcLtMn"
      },
      "source": [
        "Training and plotting"
      ]
    },
    {
      "cell_type": "code",
      "metadata": {
        "colab": {
          "base_uri": "https://localhost:8080/",
          "height": 1000
        },
        "id": "KSaDDi9CSz30",
        "outputId": "d1a49fad-ea62-4e9e-a304-e72f6642fb07"
      },
      "source": [
        "\n",
        "nets = [NetA(), NetB(), NetC(), ]\n",
        "histories = []\n",
        "for net in nets:\n",
        "  net_name = type(net).__name__\n",
        "  print(f'==== Training {net_name} ====')\n",
        "  train_history, test_history = train(net, train_loader, test_loader,\n",
        "                                      num_epochs=num_epochs,\n",
        "                                      learning_rate=lr,\n",
        "                                      compute_accs=True)\n",
        "  histories.append({\n",
        "  'name': net_name,\n",
        "  'net': net,\n",
        "  'train_accs': train_history,\n",
        "  'test_accs': test_history\n",
        "  })\n",
        "plot_history(histories)"
      ],
      "execution_count": 55,
      "outputs": [
        {
          "output_type": "stream",
          "name": "stdout",
          "text": [
            "==== Training NetA ====\n",
            "epoch: 0  train_accracy 0.345660 test_accuracy 0.340900\n",
            "epoch: 1  train_accracy 0.376860 test_accuracy 0.368300\n",
            "epoch: 2  train_accracy 0.393160 test_accuracy 0.378700\n",
            "epoch: 3  train_accracy 0.395920 test_accuracy 0.385600\n",
            "epoch: 4  train_accracy 0.385060 test_accuracy 0.371900\n",
            "epoch: 5  train_accracy 0.387700 test_accuracy 0.373500\n",
            "epoch: 6  train_accracy 0.395340 test_accuracy 0.377000\n",
            "epoch: 7  train_accracy 0.397460 test_accuracy 0.378400\n",
            "epoch: 8  train_accracy 0.391860 test_accuracy 0.375000\n",
            "epoch: 9  train_accracy 0.421060 test_accuracy 0.397700\n",
            "epoch: 10  train_accracy 0.406220 test_accuracy 0.389800\n",
            "epoch: 11  train_accracy 0.413880 test_accuracy 0.394400\n",
            "epoch: 12  train_accracy 0.419180 test_accuracy 0.396100\n",
            "epoch: 13  train_accracy 0.414640 test_accuracy 0.395800\n",
            "epoch: 14  train_accracy 0.408160 test_accuracy 0.386100\n",
            "epoch: 15  train_accracy 0.424940 test_accuracy 0.398300\n",
            "epoch: 16  train_accracy 0.416780 test_accuracy 0.390600\n",
            "epoch: 17  train_accracy 0.415100 test_accuracy 0.392800\n",
            "epoch: 18  train_accracy 0.424700 test_accuracy 0.400600\n",
            "epoch: 19  train_accracy 0.416220 test_accuracy 0.385800\n",
            "epoch: 20  train_accracy 0.422200 test_accuracy 0.395200\n",
            "epoch: 21  train_accracy 0.430240 test_accuracy 0.398200\n",
            "epoch: 22  train_accracy 0.421000 test_accuracy 0.388100\n",
            "epoch: 23  train_accracy 0.429040 test_accuracy 0.395400\n",
            "epoch: 24  train_accracy 0.426640 test_accuracy 0.387600\n",
            "epoch: 25  train_accracy 0.411580 test_accuracy 0.382900\n",
            "epoch: 26  train_accracy 0.433380 test_accuracy 0.396300\n",
            "epoch: 27  train_accracy 0.432400 test_accuracy 0.395300\n",
            "epoch: 28  train_accracy 0.433600 test_accuracy 0.398500\n",
            "epoch: 29  train_accracy 0.396720 test_accuracy 0.362000\n",
            "epoch: 30  train_accracy 0.440760 test_accuracy 0.401800\n",
            "epoch: 31  train_accracy 0.434200 test_accuracy 0.399400\n",
            "epoch: 32  train_accracy 0.420260 test_accuracy 0.387500\n",
            "epoch: 33  train_accracy 0.441100 test_accuracy 0.401400\n",
            "epoch: 34  train_accracy 0.417500 test_accuracy 0.378100\n",
            "epoch: 35  train_accracy 0.428080 test_accuracy 0.396500\n",
            "epoch: 36  train_accracy 0.429320 test_accuracy 0.390300\n",
            "epoch: 37  train_accracy 0.415980 test_accuracy 0.384700\n",
            "epoch: 38  train_accracy 0.431820 test_accuracy 0.387600\n",
            "epoch: 39  train_accracy 0.429280 test_accuracy 0.390500\n",
            "epoch: 40  train_accracy 0.427180 test_accuracy 0.383900\n",
            "epoch: 41  train_accracy 0.429960 test_accuracy 0.393100\n",
            "epoch: 42  train_accracy 0.424240 test_accuracy 0.384700\n",
            "epoch: 43  train_accracy 0.424660 test_accuracy 0.383000\n",
            "epoch: 44  train_accracy 0.439040 test_accuracy 0.399900\n",
            "epoch: 45  train_accracy 0.430080 test_accuracy 0.391500\n",
            "epoch: 46  train_accracy 0.429080 test_accuracy 0.387800\n",
            "epoch: 47  train_accracy 0.428540 test_accuracy 0.392900\n",
            "epoch: 48  train_accracy 0.440420 test_accuracy 0.397800\n",
            "epoch: 49  train_accracy 0.433440 test_accuracy 0.391000\n",
            "==== Training NetB ====\n",
            "epoch: 0  train_accracy 0.388320 test_accuracy 0.387400\n",
            "epoch: 1  train_accracy 0.422840 test_accuracy 0.416200\n",
            "epoch: 2  train_accracy 0.424800 test_accuracy 0.423400\n",
            "epoch: 3  train_accracy 0.451940 test_accuracy 0.437500\n",
            "epoch: 4  train_accracy 0.478980 test_accuracy 0.464500\n",
            "epoch: 5  train_accracy 0.492040 test_accuracy 0.473100\n",
            "epoch: 6  train_accracy 0.477300 test_accuracy 0.459100\n",
            "epoch: 7  train_accracy 0.498260 test_accuracy 0.475500\n",
            "epoch: 8  train_accracy 0.495460 test_accuracy 0.475800\n",
            "epoch: 9  train_accracy 0.509520 test_accuracy 0.480600\n",
            "epoch: 10  train_accracy 0.522660 test_accuracy 0.484800\n",
            "epoch: 11  train_accracy 0.525580 test_accuracy 0.498600\n",
            "epoch: 12  train_accracy 0.535720 test_accuracy 0.495900\n",
            "epoch: 13  train_accracy 0.525900 test_accuracy 0.492900\n",
            "epoch: 14  train_accracy 0.542200 test_accuracy 0.501500\n",
            "epoch: 15  train_accracy 0.547260 test_accuracy 0.501100\n",
            "epoch: 16  train_accracy 0.551160 test_accuracy 0.499700\n",
            "epoch: 17  train_accracy 0.553020 test_accuracy 0.498000\n",
            "epoch: 18  train_accracy 0.568400 test_accuracy 0.502900\n",
            "epoch: 19  train_accracy 0.563160 test_accuracy 0.505700\n",
            "epoch: 20  train_accracy 0.556020 test_accuracy 0.494500\n",
            "epoch: 21  train_accracy 0.576520 test_accuracy 0.510500\n",
            "epoch: 22  train_accracy 0.582720 test_accuracy 0.511000\n",
            "epoch: 23  train_accracy 0.584680 test_accuracy 0.515000\n",
            "epoch: 24  train_accracy 0.571260 test_accuracy 0.502400\n",
            "epoch: 25  train_accracy 0.595020 test_accuracy 0.525000\n",
            "epoch: 26  train_accracy 0.592000 test_accuracy 0.519000\n",
            "epoch: 27  train_accracy 0.600220 test_accuracy 0.516200\n",
            "epoch: 28  train_accracy 0.606920 test_accuracy 0.522700\n",
            "epoch: 29  train_accracy 0.605860 test_accuracy 0.512800\n",
            "epoch: 30  train_accracy 0.607580 test_accuracy 0.524300\n",
            "epoch: 31  train_accracy 0.617960 test_accuracy 0.526100\n",
            "epoch: 32  train_accracy 0.618640 test_accuracy 0.530100\n",
            "epoch: 33  train_accracy 0.618680 test_accuracy 0.527200\n",
            "epoch: 34  train_accracy 0.609080 test_accuracy 0.514500\n",
            "epoch: 35  train_accracy 0.628740 test_accuracy 0.530800\n",
            "epoch: 36  train_accracy 0.620680 test_accuracy 0.521700\n",
            "epoch: 37  train_accracy 0.624460 test_accuracy 0.524700\n",
            "epoch: 38  train_accracy 0.620260 test_accuracy 0.514500\n",
            "epoch: 39  train_accracy 0.635960 test_accuracy 0.524900\n",
            "epoch: 40  train_accracy 0.638040 test_accuracy 0.531600\n",
            "epoch: 41  train_accracy 0.630840 test_accuracy 0.521000\n",
            "epoch: 42  train_accracy 0.646620 test_accuracy 0.529800\n",
            "epoch: 43  train_accracy 0.652360 test_accuracy 0.533000\n",
            "epoch: 44  train_accracy 0.651760 test_accuracy 0.525100\n",
            "epoch: 45  train_accracy 0.647100 test_accuracy 0.526800\n",
            "epoch: 46  train_accracy 0.655680 test_accuracy 0.529300\n",
            "epoch: 47  train_accracy 0.667280 test_accuracy 0.531100\n",
            "epoch: 48  train_accracy 0.648500 test_accuracy 0.522400\n",
            "epoch: 49  train_accracy 0.666000 test_accuracy 0.526800\n",
            "==== Training NetC ====\n",
            "epoch: 0  train_accracy 0.451340 test_accuracy 0.447100\n",
            "epoch: 1  train_accracy 0.502640 test_accuracy 0.490100\n",
            "epoch: 2  train_accracy 0.533780 test_accuracy 0.519900\n",
            "epoch: 3  train_accracy 0.557180 test_accuracy 0.539800\n",
            "epoch: 4  train_accracy 0.558300 test_accuracy 0.541500\n",
            "epoch: 5  train_accracy 0.577940 test_accuracy 0.553800\n",
            "epoch: 6  train_accracy 0.597040 test_accuracy 0.572100\n",
            "epoch: 7  train_accracy 0.599560 test_accuracy 0.569900\n",
            "epoch: 8  train_accracy 0.605600 test_accuracy 0.577800\n",
            "epoch: 9  train_accracy 0.610340 test_accuracy 0.583100\n",
            "epoch: 10  train_accracy 0.620520 test_accuracy 0.588800\n",
            "epoch: 11  train_accracy 0.629880 test_accuracy 0.596500\n",
            "epoch: 12  train_accracy 0.637200 test_accuracy 0.601300\n",
            "epoch: 13  train_accracy 0.642760 test_accuracy 0.606200\n",
            "epoch: 14  train_accracy 0.646620 test_accuracy 0.615400\n",
            "epoch: 15  train_accracy 0.651540 test_accuracy 0.611300\n",
            "epoch: 16  train_accracy 0.657220 test_accuracy 0.619800\n",
            "epoch: 17  train_accracy 0.663640 test_accuracy 0.620800\n",
            "epoch: 18  train_accracy 0.657620 test_accuracy 0.615600\n",
            "epoch: 19  train_accracy 0.669020 test_accuracy 0.625000\n",
            "epoch: 20  train_accracy 0.664880 test_accuracy 0.621100\n",
            "epoch: 21  train_accracy 0.664200 test_accuracy 0.620000\n",
            "epoch: 22  train_accracy 0.673840 test_accuracy 0.624400\n",
            "epoch: 23  train_accracy 0.678440 test_accuracy 0.625800\n",
            "epoch: 24  train_accracy 0.674980 test_accuracy 0.630200\n",
            "epoch: 25  train_accracy 0.664360 test_accuracy 0.618800\n",
            "epoch: 26  train_accracy 0.688520 test_accuracy 0.635900\n",
            "epoch: 27  train_accracy 0.684400 test_accuracy 0.632700\n",
            "epoch: 28  train_accracy 0.694540 test_accuracy 0.638200\n",
            "epoch: 29  train_accracy 0.695860 test_accuracy 0.639300\n",
            "epoch: 30  train_accracy 0.687000 test_accuracy 0.636100\n",
            "epoch: 31  train_accracy 0.697680 test_accuracy 0.637000\n",
            "epoch: 32  train_accracy 0.695780 test_accuracy 0.635800\n",
            "epoch: 33  train_accracy 0.699180 test_accuracy 0.638900\n",
            "epoch: 34  train_accracy 0.704520 test_accuracy 0.640700\n",
            "epoch: 35  train_accracy 0.699140 test_accuracy 0.637500\n",
            "epoch: 36  train_accracy 0.703280 test_accuracy 0.639500\n",
            "epoch: 37  train_accracy 0.708400 test_accuracy 0.643700\n",
            "epoch: 38  train_accracy 0.711620 test_accuracy 0.641000\n",
            "epoch: 39  train_accracy 0.715180 test_accuracy 0.644700\n",
            "epoch: 40  train_accracy 0.717300 test_accuracy 0.645100\n",
            "epoch: 41  train_accracy 0.712680 test_accuracy 0.642600\n",
            "epoch: 42  train_accracy 0.718940 test_accuracy 0.647800\n",
            "epoch: 43  train_accracy 0.714480 test_accuracy 0.639100\n",
            "epoch: 44  train_accracy 0.717680 test_accuracy 0.647100\n",
            "epoch: 45  train_accracy 0.710520 test_accuracy 0.636200\n",
            "epoch: 46  train_accracy 0.723480 test_accuracy 0.648000\n",
            "epoch: 47  train_accracy 0.722400 test_accuracy 0.646000\n",
            "epoch: 48  train_accracy 0.720820 test_accuracy 0.641100\n",
            "epoch: 49  train_accracy 0.714900 test_accuracy 0.638100\n"
          ]
        },
        {
          "output_type": "display_data",
          "data": {
            "image/png": "[encoded data removed]",
            "text/plain": [
              "<Figure size 432x288 with 1 Axes>"
            ]
          },
          "metadata": {
            "needs_background": "light"
          }
        },
        {
          "output_type": "display_data",
          "data": {
            "image/png": "[encoded data removed]",
            "text/plain": [
              "<Figure size 432x288 with 1 Axes>"
            ]
          },
          "metadata": {
            "needs_background": "light"
          }
        },
        {
          "output_type": "display_data",
          "data": {
            "image/png": "[encoded data removed]",
            "text/plain": [
              "<Figure size 432x288 with 1 Axes>"
            ]
          },
          "metadata": {
            "needs_background": "light"
          }
        }
      ]
    }
  ]
}